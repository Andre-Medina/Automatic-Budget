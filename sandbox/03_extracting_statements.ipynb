{
 "cells": [
  {
   "cell_type": "code",
   "execution_count": null,
   "metadata": {},
   "outputs": [],
   "source": [
    "import pandas as pd\n",
    "import json\n",
    "import traceback\n",
    "\n",
    "import sys\n",
    "sys.path.insert(1, '../')\n",
    "import modules as md\n",
    "ROOT_DIR = \"../\""
   ]
  },
  {
   "cell_type": "code",
   "execution_count": null,
   "metadata": {},
   "outputs": [],
   "source": [
    "statement = pd\\\n",
    "    .read_csv(ROOT_DIR + md.PINK_CARD_STATEMENT,header=0)\\\n",
    "    .rename(columns={\n",
    "        'Date': 'date',\n",
    "        'Description':'description',\n",
    "        'Debits and credits':'amount'\n",
    "    })[['date','description','amount']]\n",
    "\n",
    "statement.iloc[0].to_dict()"
   ]
  },
  {
   "attachments": {},
   "cell_type": "markdown",
   "metadata": {},
   "source": [
    "# creating class"
   ]
  },
  {
   "cell_type": "code",
   "execution_count": null,
   "metadata": {},
   "outputs": [],
   "source": [
    "class Statements:\n",
    "    def __init__(self, accounts = md.STATEMENT_ACCOUNTS):\n",
    "\n",
    "        self.statments = {}\n",
    "        self.accounts = md.STATEMENT_ACCOUNTS\n",
    "    \n",
    "    def load_statment(self, account):\n",
    "        return pd\\\n",
    "            .read_csv(ROOT_DIR + md.BANK_STATEMENTS_DIR + '/' + account + '.csv', header=0)\\\n",
    "            .rename(columns={\n",
    "                'Date': 'date',\n",
    "                'Description':'description',\n",
    "                'Debits and credits':'amount'\n",
    "            })[['date','description','amount']]\n",
    "    \n",
    "\n",
    "    def get_transaction(self, account, transaction):\n",
    "        \n",
    "        if account not in self.accounts:\n",
    "            return \"sorry, could not find this account\"\n",
    "\n",
    "        if not(account in self.statments.keys()):\n",
    "            try:\n",
    "                self.statments[account] = self.load_statment(account)\n",
    "            except Exception as e:\n",
    "                traceback.print_exc()\n",
    "                return \"sorry, error loading statement\"\n",
    "            \n",
    "        if transaction > self.statments[account].shape[0]:\n",
    "            return \"no more transactions!\"\n",
    "        \n",
    "        return self.statments[account].iloc[transaction].to_dict()\n",
    "\n",
    "\n",
    "statements = Statements()\n",
    "\n"
   ]
  }
 ],
 "metadata": {
  "kernelspec": {
   "display_name": "Python 3",
   "language": "python",
   "name": "python3"
  },
  "language_info": {
   "codemirror_mode": {
    "name": "ipython",
    "version": 3
   },
   "file_extension": ".py",
   "mimetype": "text/x-python",
   "name": "python",
   "nbconvert_exporter": "python",
   "pygments_lexer": "ipython3",
   "version": "3.9.13"
  },
  "orig_nbformat": 4
 },
 "nbformat": 4,
 "nbformat_minor": 2
}
