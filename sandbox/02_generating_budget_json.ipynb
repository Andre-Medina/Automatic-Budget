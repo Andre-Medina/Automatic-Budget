{
 "cells": [
  {
   "cell_type": "code",
   "execution_count": 1,
   "metadata": {},
   "outputs": [],
   "source": [
    "import json\n",
    "\n",
    "import sys\n",
    "sys.path.insert(1, '../')\n",
    "import modules \n",
    "ROOT_DIR = \"../\""
   ]
  },
  {
   "cell_type": "code",
   "execution_count": 2,
   "metadata": {},
   "outputs": [
    {
     "data": {
      "text/plain": [
       "{0: ['Personal', {}],\n",
       " 1: ['Business', {}],\n",
       " 2: ['Loaning', {}],\n",
       " 3: ['Hosting', {}],\n",
       " 4: ['Big Trip', {}],\n",
       " 5: ['Amber', {}],\n",
       " 6: ['Social', {}],\n",
       " 7: ['Birthday', {}],\n",
       " 8: ['Christmas', {}],\n",
       " 9: ['Special Occasion', {}]}"
      ]
     },
     "execution_count": 2,
     "metadata": {},
     "output_type": "execute_result"
    }
   ],
   "source": [
    "level_1 = {\n",
    "    0: [\"Personal\",{}],\n",
    "    1: [\"Business\",{}],\n",
    "    2: [\"Loaning\",{}],\n",
    "    3: [\"Hosting\",{}],\n",
    "    4: [\"Big Trip\",{}],\n",
    "    5: [\"Amber\",{}],\n",
    "    6: [\"Social\",{}],\n",
    "    7: [\"Birthday\",{}],\n",
    "    8: [\"Christmas\",{}],\n",
    "    9: [\"Special Occasion\",{}],\n",
    "}\n",
    "\n",
    "\n",
    "# modules.json_save(level_1, ROOT_DIR + modules.CLASSIFICATION_JSON_DIR_LVL_1)\n",
    "level_1"
   ]
  },
  {
   "cell_type": "code",
   "execution_count": 3,
   "metadata": {},
   "outputs": [],
   "source": []
  },
  {
   "cell_type": "code",
   "execution_count": 4,
   "metadata": {},
   "outputs": [
    {
     "data": {
      "text/plain": [
       "{'F': ['Food',\n",
       "  {'F': ['Fast',\n",
       "    {'d': ['Dessert', {}],\n",
       "     'b': ['Bahn Mi', {}],\n",
       "     'm': ['Maccas', {}],\n",
       "     'p': ['Pizza', {}],\n",
       "     'k': ['Kebab', {}],\n",
       "     's': ['Sushi', {}],\n",
       "     'v': ['Veggie', {}],\n",
       "     'c': ['Cafe', {}],\n",
       "     'a': ['Asian', {}],\n",
       "     'x': ['Mexican', {}],\n",
       "     'h': ['Hamburger', {}],\n",
       "     'f': ['Fish and Chips', {}],\n",
       "     'i': ['Ice-Cream', {}],\n",
       "     'r': ['KFC/ Red rooster', {}]}],\n",
       "   'E': ['Eating In',\n",
       "    {'p': ['Italian', {}],\n",
       "     'I': ['Indian', {}],\n",
       "     'l': ['Luksa', {}],\n",
       "     'h': ['Hot Chicken', {}],\n",
       "     'a': ['Asian', {}],\n",
       "     'c': ['Cafe', {}],\n",
       "     'b': ['Pub/ Bar', {}]}]}],\n",
       " 'G': ['Groceries', {'S': ['Snacks', {}], 'G': ['Actual Groceries', {}]}]}"
      ]
     },
     "execution_count": 4,
     "metadata": {},
     "output_type": "execute_result"
    }
   ],
   "source": [
    "level_2 = {\n",
    "    'F': [\"Food\",\n",
    "        {\n",
    "            'F':[\"Fast\",\n",
    "                {\n",
    "                    'd': [\"Dessert\",{}],\n",
    "                    'b': [\"Bahn Mi\",{}],\n",
    "                    'm': [\"Maccas\",{}],\n",
    "                    'p': [\"Pizza\",{}],\n",
    "                    'k': [\"Kebab\",{}],\n",
    "                    's': [\"Sushi\",{}],\n",
    "                    'v': [\"Veggie\",{}],\n",
    "                    'c': [\"Cafe\",{}],\n",
    "                    'a': [\"Asian\",{}],\n",
    "                    'x': [\"Mexican\",{}],\n",
    "                    'h': [\"Hamburger\",{}],\n",
    "                    'f': [\"Fish and Chips\",{}],\n",
    "                    'i': [\"Ice-Cream\",{}],\n",
    "                    'r': [\"KFC/ Red rooster\",{}],\n",
    "                },\n",
    "            ],\n",
    "            \"E\":['Eating In',\n",
    "                 {\n",
    "                    'p': [\"Italian\",{}],\n",
    "                    'I': [\"Indian\",{}],\n",
    "                    'l': [\"Luksa\",{}],\n",
    "                    'h': [\"Hot Chicken\",{}],\n",
    "                    'a': [\"Asian\",{}],\n",
    "                    'c': [\"Cafe\",{}],\n",
    "                    'b': [\"Pub/ Bar\",{}],\n",
    "                    'c': [\"Cafe\",{}],                     \n",
    "                 },\n",
    "            ],\n",
    "        }\n",
    "    ],\n",
    "    'G': [\"Groceries\",\n",
    "        {\n",
    "            'S': [\"Snacks\",{}],\n",
    "            'G': [\"Actual Groceries\",{}]\n",
    "        }\n",
    "    ],    \n",
    "}\n",
    "\n",
    "\n",
    "# modules.json_save(level_2, ROOT_DIR + modules.CLASSIFICATION_JSON_DIR_LVL_2)\n",
    "level_2"
   ]
  }
 ],
 "metadata": {
  "kernelspec": {
   "display_name": "Python 3",
   "language": "python",
   "name": "python3"
  },
  "language_info": {
   "name": "python",
   "version": "3.9.13"
  },
  "orig_nbformat": 4
 },
 "nbformat": 4,
 "nbformat_minor": 2
}
